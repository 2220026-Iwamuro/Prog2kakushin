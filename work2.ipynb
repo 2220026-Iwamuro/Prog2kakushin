{
  "nbformat": 4,
  "nbformat_minor": 0,
  "metadata": {
    "colab": {
      "provenance": [],
      "authorship_tag": "ABX9TyMjUE1qlZpk1nogGPPzM2PT",
      "include_colab_link": true
    },
    "kernelspec": {
      "name": "python3",
      "display_name": "Python 3"
    },
    "language_info": {
      "name": "python"
    }
  },
  "cells": [
    {
      "cell_type": "markdown",
      "metadata": {
        "id": "view-in-github",
        "colab_type": "text"
      },
      "source": [
        "<a href=\"https://colab.research.google.com/github/2220026-Iwamuro/Prog2kakushin/blob/main/work2.ipynb\" target=\"_parent\"><img src=\"https://colab.research.google.com/assets/colab-badge.svg\" alt=\"Open In Colab\"/></a>"
      ]
    },
    {
      "cell_type": "markdown",
      "source": [
        "物体を初速度V0(m/s)、地面からの角度(°)で打ち出した時の落下点と最高到達点、放物線のグラフが分かります。"
      ],
      "metadata": {
        "id": "1PAqUUuTxsoV"
      }
    },
    {
      "cell_type": "code",
      "source": [
        "import numpy as np\n",
        "import matplotlib.pyplot as plt\n",
        "\n",
        "v0=float(input('初速度を入力してください(m/s)：'))\n",
        "th=float(input('角度を入力してください(°)：'))\n",
        "g=9.8\n",
        "\n",
        "th=np.radians(th)\n",
        "vx=v0*np.cos(th)\n",
        "vy=v0*np.sin(th)\n",
        "t=2*vy/g\n",
        "L=t*vx\n",
        "H=vy*t/2-g*t**2/8\n",
        "\n",
        "print(f'およそ{round(L,1)}ｍ先に落下します。最高到達点はおよそ{round(H,1)}ｍです。')\n",
        "\n",
        "t = np.linspace(0,t,100)\n",
        "x = vx*t\n",
        "y = vy*t -1/2*g*t**2\n",
        "\n",
        "plt.plot(x,y)\n",
        "plt.xlabel('x')\n",
        "plt.ylabel('y')\n",
        "plt.grid()\n",
        "plt.show()"
      ],
      "metadata": {
        "colab": {
          "base_uri": "https://localhost:8080/",
          "height": 331
        },
        "id": "h3yxFJVcqyME",
        "outputId": "95f85ed7-4ca4-4390-8a16-d6bc8050e814"
      },
      "execution_count": 27,
      "outputs": [
        {
          "output_type": "stream",
          "name": "stdout",
          "text": [
            "初速度を入力してください(m/s)：57\n",
            "角度を入力してください(°)：45\n",
            "およそ331.5ｍ先に落下します。最高到達点はおよそ82.9ｍです。\n"
          ]
        },
        {
          "output_type": "display_data",
          "data": {
            "text/plain": [
              "<Figure size 432x288 with 1 Axes>"
            ],
            "image/png": "[encoded data removed]"
          },
          "metadata": {
            "needs_background": "light"
          }
        }
      ]
    }
  ]
}