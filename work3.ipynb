{
  "nbformat": 4,
  "nbformat_minor": 0,
  "metadata": {
    "colab": {
      "provenance": [],
      "authorship_tag": "ABX9TyPqQcvOAka9z3xc5v+YyNCh",
      "include_colab_link": true
    },
    "kernelspec": {
      "name": "python3",
      "display_name": "Python 3"
    },
    "language_info": {
      "name": "python"
    }
  },
  "cells": [
    {
      "cell_type": "markdown",
      "metadata": {
        "id": "view-in-github",
        "colab_type": "text"
      },
      "source": [
        "<a href=\"https://colab.research.google.com/github/2220026-Iwamuro/Prog2kakushin/blob/main/work3.ipynb\" target=\"_parent\"><img src=\"https://colab.research.google.com/assets/colab-badge.svg\" alt=\"Open In Colab\"/></a>"
      ]
    },
    {
      "cell_type": "markdown",
      "source": [
        "正多角形を描くことができます。\n",
        "正2.2角形など、小数も可。\n",
        "\n"
      ],
      "metadata": {
        "id": "Fk-Sbkdix1U5"
      }
    },
    {
      "cell_type": "code",
      "execution_count": null,
      "metadata": {
        "id": "CLsCff1Yx0hR"
      },
      "outputs": [],
      "source": [
        "#先にこのセルを実行してください。\n",
        "\n",
        "!pip3 install ColabTurtlePlus\n",
        "from ColabTurtlePlus.Turtle import *"
      ]
    },
    {
      "cell_type": "code",
      "source": [
        "n=float(input('正何角形を描きますか？：'))\n",
        "clearscreen()\n",
        "setup(500,500)\n",
        "tur1 = Turtle()\n",
        "tur1.speed(14)\n",
        "while True:\n",
        "  tur1.forward(500/n)\n",
        "  tur1.left(360/n)\n",
        "  if (tur1.getx()**2+tur1.gety()**2)**(1/2)<1:\n",
        "    break"
      ],
      "metadata": {
        "id": "9z-0wD_c8WNf"
      },
      "execution_count": null,
      "outputs": []
    }
  ]
}